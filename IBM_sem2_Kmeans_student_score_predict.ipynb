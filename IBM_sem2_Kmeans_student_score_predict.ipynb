{
  "nbformat": 4,
  "nbformat_minor": 0,
  "metadata": {
    "colab": {
      "provenance": [],
      "authorship_tag": "ABX9TyP8tv1gL/zqEGzt7FJJra4Y"
    },
    "kernelspec": {
      "name": "python3",
      "display_name": "Python 3"
    },
    "language_info": {
      "name": "python"
    }
  },
  "cells": [
    {
      "cell_type": "code",
      "execution_count": 5,
      "metadata": {
        "id": "bMJTYMr4h57V"
      },
      "outputs": [],
      "source": [
        "import pandas as pd\n",
        "import numpy as np\n",
        "from sklearn.cluster import KMeans"
      ]
    },
    {
      "cell_type": "code",
      "source": [
        "#Deifine the range of possible inputs\n",
        "min_marks=0\n",
        "max_marks=100\n",
        "min_attendance_percentage=0\n",
        "max_attendance_percentage=100\n",
        "min_assignment_score=0\n",
        "max_assignment_score=10"
      ],
      "metadata": {
        "id": "qjlJn934iDbg"
      },
      "execution_count": 6,
      "outputs": []
    },
    {
      "cell_type": "code",
      "source": [
        "#Get input from user for marks obtained\n",
        "while True:\n",
        "  try:\n",
        "    marks_obtained=int(input(f\"Enter marks obtained between ({min_marks} and {max_marks}): \"))\n",
        "    if marks_obtained < min_marks or marks_obtained > max_marks:\n",
        "      raise ValueError\n",
        "    break\n",
        "  except ValueError:\n",
        "    print(f\"Please enter a valid integer between {min_marks} and {max_marks}\")"
      ],
      "metadata": {
        "colab": {
          "base_uri": "https://localhost:8080/"
        },
        "id": "wIC1RsMiieNq",
        "outputId": "61057239-823c-4c15-c869-73c2c48b85a9"
      },
      "execution_count": 7,
      "outputs": [
        {
          "name": "stdout",
          "output_type": "stream",
          "text": [
            "Enter marks obtained between (0 and 100): 50\n"
          ]
        }
      ]
    },
    {
      "cell_type": "code",
      "source": [
        "# Get input from user for marks obtained\n",
        "while True:\n",
        "    try:\n",
        "        marks_obtained = int(input(f\"Enter marks obtained ({min_marks}-{max_marks}): \"))\n",
        "        if marks_obtained < min_marks or marks_obtained > max_marks:\n",
        "            raise ValueError()\n",
        "        break\n",
        "    except ValueError:\n",
        "        print(f\"Please enter a valid integer between {min_marks} and {max_marks}\")\n",
        "\n",
        "# Get input from user for attendance percentage\n",
        "while True:\n",
        "    try:\n",
        "        attendance_percentage = int(input(f\"Enter attendance percentage ({min_attendance_percentage}-{max_attendance_percentage}): \"))\n",
        "        if attendance_percentage < min_attendance_percentage or attendance_percentage > max_attendance_percentage:\n",
        "            raise ValueError()\n",
        "        break\n",
        "    except ValueError:\n",
        "        print(f\"Please enter a valid integer between {min_attendance_percentage} and {max_attendance_percentage}\")\n",
        "\n",
        "# Get input from user for assignment score\n",
        "while True:\n",
        "    try:\n",
        "        assignment_score = int(input(f\"Enter assignment score ({min_assignment_score}-{max_assignment_score}): \"))\n",
        "        if assignment_score < min_assignment_score or assignment_score > max_assignment_score:\n",
        "            raise ValueError()\n",
        "        break\n",
        "    except ValueError:\n",
        "        print(f\"Please enter a valid integer between {min_assignment_score} and {max_assignment_score}\")"
      ],
      "metadata": {
        "colab": {
          "base_uri": "https://localhost:8080/"
        },
        "id": "iWuS06D1jHiQ",
        "outputId": "10f9a1e1-016e-4cb0-bd97-46da480ae5ce"
      },
      "execution_count": 14,
      "outputs": [
        {
          "name": "stdout",
          "output_type": "stream",
          "text": [
            "Enter marks obtained (0-100): 86\n",
            "Enter attendance percentage (0-100): 90\n",
            "Enter assignment score (0-10): 8\n"
          ]
        }
      ]
    },
    {
      "cell_type": "code",
      "source": [
        "# Calculate overall score of new student\n",
        "overall_score = marks_obtained*0.4 + attendance_percentage*0.4 + assignment_score*0.2\n",
        "print(\"Overall score of new student:\", overall_score)"
      ],
      "metadata": {
        "colab": {
          "base_uri": "https://localhost:8080/"
        },
        "id": "IqetXvC-lwy3",
        "outputId": "c2e73461-e500-4503-c748-9f67a38735e0"
      },
      "execution_count": 15,
      "outputs": [
        {
          "output_type": "stream",
          "name": "stdout",
          "text": [
            "Overall score of new student: 72.0\n"
          ]
        }
      ]
    },
    {
      "cell_type": "code",
      "source": [
        "# Create dataframe with overall scores\n",
        "np.random.seed(0)\n",
        "n_students = 100\n",
        "marks_obtained = np.random.randint(0, 100, n_students)\n",
        "attendance_percentage = np.random.randint(50, 100, n_students)\n",
        "assignment_score = np.random.randint(0, 10, n_students)\n",
        "overall_score = marks_obtained*0.4 + attendance_percentage*0.4 + assignment_score*0.2\n",
        "data = pd.DataFrame({\n",
        "    \"Marks Obtained\": marks_obtained,\n",
        "    \"Attendance Percentage\": attendance_percentage,\n",
        "    \"Assignment Score\": assignment_score,\n",
        "    \"Overall Score\": overall_score\n",
        "})"
      ],
      "metadata": {
        "id": "eQkrOBn8lzLa"
      },
      "execution_count": 16,
      "outputs": []
    },
    {
      "cell_type": "code",
      "source": [
        "# Create clusters based on overall scores\n",
        "data[\"Cluster\"] = np.where(data[\"Overall Score\"] < 40, 0, np.where(data[\"Overall Score\"] < 75, 1, 2))\n"
      ],
      "metadata": {
        "id": "xNMYvZMDl2B9"
      },
      "execution_count": 17,
      "outputs": []
    },
    {
      "cell_type": "code",
      "source": [
        "# Print the number of data points in each cluster\n",
        "print(data[\"Cluster\"].value_counts())\n"
      ],
      "metadata": {
        "colab": {
          "base_uri": "https://localhost:8080/"
        },
        "id": "99VPIR3pl4cS",
        "outputId": "8913e6c0-7855-43b2-af52-d3ed225603cb"
      },
      "execution_count": 18,
      "outputs": [
        {
          "output_type": "stream",
          "name": "stdout",
          "text": [
            "Cluster\n",
            "1    71\n",
            "0    27\n",
            "2     2\n",
            "Name: count, dtype: int64\n"
          ]
        }
      ]
    },
    {
      "cell_type": "code",
      "source": [
        "# Predict the cluster of the new student\n",
        "new_student_cluster = np.where(overall_score < 40, 0, np.where(overall_score < 75, 1, 2))\n",
        "print(\"New student belongs to cluster:\", new_student_cluster[0])"
      ],
      "metadata": {
        "colab": {
          "base_uri": "https://localhost:8080/"
        },
        "id": "NRPGibULl9EE",
        "outputId": "c742fa26-0fcf-42bb-dad1-875a0bdd16ca"
      },
      "execution_count": 19,
      "outputs": [
        {
          "output_type": "stream",
          "name": "stdout",
          "text": [
            "New student belongs to cluster: 1\n"
          ]
        }
      ]
    },
    {
      "cell_type": "code",
      "source": [],
      "metadata": {
        "id": "f4wLkbXznetI"
      },
      "execution_count": null,
      "outputs": []
    }
  ]
}